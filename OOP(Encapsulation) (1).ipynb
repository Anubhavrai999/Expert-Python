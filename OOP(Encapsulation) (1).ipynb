{
 "cells": [
  {
   "cell_type": "code",
   "execution_count": null,
   "metadata": {
    "colab": {
     "base_uri": "https://localhost:8080/"
    },
    "executionInfo": {
     "elapsed": 16,
     "status": "ok",
     "timestamp": 1741070393106,
     "user": {
      "displayName": "Gaurav Kumar",
      "userId": "10768966678235614917"
     },
     "user_tz": -330
    },
    "id": "QkTAeN5svjqx",
    "outputId": "b251d902-30a2-448a-bcba-f76a8890722b"
   },
   "outputs": [
    {
     "name": "stdout",
     "output_type": "stream",
     "text": [
      "Name: John, Age: 30\n"
     ]
    }
   ],
   "source": [
    "class Person:\n",
    "  #contructor\n",
    "  def __init__(self, name, age):\n",
    "    self.__name = name \n",
    "    self.__age = age\n",
    "\n",
    "  def display_info(self): \n",
    "    print(f\"Name: {self.__name}, Age: {self.__age}\")\n",
    "\n",
    "Person=Person(\"John\", 30) \n",
    "\n",
    "Person.display_info()\n",
    "\n"
   ]
  },
  {
   "cell_type": "code",
   "execution_count": 3,
   "metadata": {
    "id": "awT4XC7nl8ZF"
   },
   "outputs": [
    {
     "data": {
      "text/plain": [
       "1000"
      ]
     },
     "execution_count": 3,
     "metadata": {},
     "output_type": "execute_result"
    }
   ],
   "source": [
    "class BankAccount:\n",
    "    def __init__(self, balance):\n",
    "        self.__balance = balance  # Private attribute (Encapsulation)\n",
    "\n",
    "    def get_balance(self): \n",
    "        return self.__balance\n",
    "\n",
    "account = BankAccount(1000)\n",
    "account.get_balance()\n"
   ]
  },
  {
   "cell_type": "code",
   "execution_count": 5,
   "metadata": {
    "id": "k6vOVA-Ny4cO"
   },
   "outputs": [
    {
     "name": "stdout",
     "output_type": "stream",
     "text": [
      "Name: John, Age: 30\n",
      "Name: Alice, Age: 20\n"
     ]
    }
   ],
   "source": [
    "class Person:\n",
    "  def __init__(self, name, age):\n",
    "    self.__name = name \n",
    "    self.__age = age   \n",
    "\n",
    "  def display_info(self):\n",
    "    print(f\"Name: {self.__name}, Age: {self.__age}\")\n",
    "\n",
    "\n",
    "person1 = Person(\"John\", 30)\n",
    "person1.display_info()\n",
    "\n",
    "class Student(Person):\n",
    "  def __init__(self, name, age, student_id):\n",
    "    super().__init__(name, age)\n",
    "\n",
    "\n",
    "student1 = Student(\"Alice\", 20, \"12345\")  \n",
    "student1.display_info()"
   ]
  },
  {
   "cell_type": "code",
   "execution_count": null,
   "metadata": {
    "colab": {
     "base_uri": "https://localhost:8080/"
    },
    "executionInfo": {
     "elapsed": 60,
     "status": "ok",
     "timestamp": 1741070863927,
     "user": {
      "displayName": "Gaurav Kumar",
      "userId": "10768966678235614917"
     },
     "user_tz": -330
    },
    "id": "O5rZ7EuC0eRc",
    "outputId": "684a93f0-7899-4ccd-e7c7-0427771f1e02"
   },
   "outputs": [
    {
     "name": "stdout",
     "output_type": "stream",
     "text": [
      "30\n"
     ]
    }
   ],
   "source": [
    "class Car:\n",
    "    def __init__(self, speed=0):\n",
    "        self.__speed = speed\n",
    "\n",
    "    def accelerate(self, amount):\n",
    "        if amount > 0:\n",
    "            self.__speed += amount\n",
    "\n",
    "    def brake(self, amount):\n",
    "        if 0 < amount <= self.__speed:\n",
    "            self.__speed -= amount\n",
    "\n",
    "    def get_speed(self):\n",
    "        return self.__speed\n",
    "\n",
    "car = Car()\n",
    "car.accelerate(30)\n",
    "print(car.get_speed())  # Output: 30\n"
   ]
  },
  {
   "cell_type": "code",
   "execution_count": null,
   "metadata": {
    "id": "WEeOt8xwWFS3"
   },
   "outputs": [],
   "source": [
    "class Laptop:\n",
    "    def __init__(self, price):\n",
    "        self.__price = price\n",
    "\n",
    "    def set_price(self, new_price):\n",
    "        if new_price > 0:\n",
    "            self.__price = new_price\n",
    "\n",
    "    def get_price(self):\n",
    "        return self.__price\n",
    "\n",
    "\n"
   ]
  },
  {
   "cell_type": "code",
   "execution_count": null,
   "metadata": {
    "id": "y9SttqQcWMYP"
   },
   "outputs": [],
   "source": [
    "class BankAccount:\n",
    "    def __init__(self, balance=0):\n",
    "        self.__balance = balance\n",
    "\n",
    "    def deposit(self, amount):\n",
    "        if amount > 0: self.__balance += amount\n",
    "\n",
    "    def withdraw(self, amount):\n",
    "        if 0 < amount <= self.__balance: self.__balance -= amount\n",
    "\n",
    "    def get_balance(self):\n",
    "        return self.__balance\n",
    "\n",
    "\n"
   ]
  },
  {
   "cell_type": "code",
   "execution_count": null,
   "metadata": {
    "id": "kEFR26Ri6Qyt"
   },
   "outputs": [],
   "source": [
    "# Question 1: Laptop class\n",
    "class Laptop:\n",
    "    def __init__(self, price):\n",
    "        self.__price = price\n",
    "\n",
    "    def set_price(self, new_price):\n",
    "        if new_price > 0:\n",
    "            self.__price = new_price\n",
    "\n",
    "    def get_price(self):\n",
    "        return self.__price\n",
    "\n",
    "# Question 2: BankAccount class\n",
    "class BankAccount:\n",
    "    def __init__(self, balance=0):\n",
    "        self.__balance = balance\n",
    "\n",
    "    def deposit(self, amount):\n",
    "        if amount > 0: self.__balance += amount\n",
    "\n",
    "    def withdraw(self, amount):\n",
    "        if 0 < amount <= self.__balance: self.__balance -= amount\n",
    "\n",
    "    def get_balance(self):\n",
    "        return self.__balance\n",
    "\n",
    "# Question 3: Movie class\n",
    "class Movie:\n",
    "    def __init__(self, rating):\n",
    "        self.__rating = max(1, min(10, rating))\n",
    "\n",
    "    def set_rating(self, new_rating):\n",
    "        if 1 <= new_rating <= 10:\n",
    "            self.__rating = new_rating\n",
    "\n",
    "    def get_rating(self):\n",
    "        return self.__rating\n",
    "\n",
    "# Question 4: Book class\n",
    "class Book:\n",
    "    def __init__(self, title, author):\n",
    "        self.__title = title\n",
    "        self.__author = author\n",
    "\n",
    "    def get_title(self):\n",
    "        return self.__title\n",
    "\n",
    "    def get_author(self):\n",
    "        return self.__author\n",
    "\n",
    "# Question 5: Car class\n",
    "class Car:\n",
    "    def __init__(self, speed=0):\n",
    "        self.__speed = speed\n",
    "\n",
    "    def increase_speed(self, amount):\n",
    "        if amount > 0: self.__speed += amount\n",
    "\n",
    "    def decrease_speed(self, amount):\n",
    "        if 0 < amount <= self.__speed: self.__speed -= amount\n",
    "\n",
    "    def get_speed(self):\n",
    "        return self.__speed\n"
   ]
  },
  {
   "cell_type": "code",
   "execution_count": 1,
   "metadata": {
    "executionInfo": {
     "elapsed": 12,
     "status": "ok",
     "timestamp": 1742364461520,
     "user": {
      "displayName": "Gaurav Kumar",
      "userId": "10768966678235614917"
     },
     "user_tz": -330
    },
    "id": "1XLMiTIJA021"
   },
   "outputs": [],
   "source": [
    "class Movie:\n",
    "    def __init__(self, rating):\n",
    "        self.__rating = max(1, min(10, rating))\n",
    "\n",
    "    def set_rating(self, new_rating):\n",
    "        if 1 <= new_rating <= 10:\n",
    "            self.__rating = new_rating\n",
    "\n",
    "    def get_rating(self):\n",
    "        return self.__rating"
   ]
  },
  {
   "cell_type": "code",
   "execution_count": null,
   "metadata": {
    "id": "ZjyzB7c3A1td"
   },
   "outputs": [],
   "source": []
  }
 ],
 "metadata": {
  "colab": {
   "authorship_tag": "ABX9TyOcdnTwxaWjUe9MwWerpxA8",
   "provenance": []
  },
  "kernelspec": {
   "display_name": "Python 3 (ipykernel)",
   "language": "python",
   "name": "python3"
  },
  "language_info": {
   "codemirror_mode": {
    "name": "ipython",
    "version": 3
   },
   "file_extension": ".py",
   "mimetype": "text/x-python",
   "name": "python",
   "nbconvert_exporter": "python",
   "pygments_lexer": "ipython3",
   "version": "3.12.4"
  }
 },
 "nbformat": 4,
 "nbformat_minor": 4
}
